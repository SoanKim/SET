{
  "nbformat": 4,
  "nbformat_minor": 0,
  "metadata": {
    "colab": {
      "name": "(w/o next state) SET_DQN.ipynb",
      "provenance": [],
      "collapsed_sections": []
    },
    "kernelspec": {
      "name": "python3",
      "display_name": "Python 3"
    },
    "language_info": {
      "name": "python"
    }
  },
  "cells": [
    {
      "cell_type": "markdown",
      "source": [
        "# Stimuli"
      ],
      "metadata": {
        "id": "eEK25d-EDMM1"
      }
    },
    {
      "cell_type": "markdown",
      "source": [
        "### Import"
      ],
      "metadata": {
        "id": "K6ootlWQDJRn"
      }
    },
    {
      "cell_type": "code",
      "execution_count": 4,
      "metadata": {
        "colab": {
          "base_uri": "https://localhost:8080/"
        },
        "id": "SOUEf4B9Zb28",
        "outputId": "8a56fd9b-917e-44ca-a58f-484710d8aceb"
      },
      "outputs": [
        {
          "output_type": "stream",
          "name": "stdout",
          "text": [
            "Mounted at /content/gdrive/\n"
          ]
        }
      ],
      "source": [
        "import os\n",
        "import random\n",
        "import json\n",
        "import numpy             as np\n",
        "import pandas            as pd\n",
        "import matplotlib.pyplot as plt\n",
        "from pandas              import json_normalize\n",
        "from PIL                 import Image\n",
        "from itertools           import combinations\n",
        "from collections         import deque, Counter\n",
        "from google.colab        import drive\n",
        "drive.mount('/content/gdrive/')"
      ]
    },
    {
      "cell_type": "code",
      "source": [
        "file_path= '/content/gdrive/MyDrive/stimuli_combination_2160.csv'\n",
        "file_read = pd.read_csv(file_path)"
      ],
      "metadata": {
        "id": "WGDiiP3ea54e"
      },
      "execution_count": 5,
      "outputs": []
    },
    {
      "cell_type": "markdown",
      "source": [
        "### Sanitizing"
      ],
      "metadata": {
        "id": "epalI0H6DfAR"
      }
    },
    {
      "cell_type": "code",
      "source": [
        "file_read = file_read.replace(to_replace='\\(', value=\"\", regex=True)\n",
        "file_read = file_read.replace(to_replace='\\)', value=\"\", regex=True)\n",
        "file_read = file_read.replace(to_replace=' ', value=\"\", regex=True)\n",
        "file_read = file_read.replace(to_replace=\"'\", value=\"\", regex=True)"
      ],
      "metadata": {
        "id": "YhEJwkzvfkyd"
      },
      "execution_count": 6,
      "outputs": []
    },
    {
      "cell_type": "code",
      "source": [
        "file_read"
      ],
      "metadata": {
        "colab": {
          "base_uri": "https://localhost:8080/",
          "height": 488
        },
        "id": "4cSTvUp8Ud6M",
        "outputId": "14119491-c8c8-4737-8dc4-1de8087e36ea"
      },
      "execution_count": 7,
      "outputs": [
        {
          "output_type": "execute_result",
          "data": {
            "text/html": [
              "\n",
              "  <div id=\"df-6654a35d-5058-4f2e-8379-ffd449204e61\">\n",
              "    <div class=\"colab-df-container\">\n",
              "      <div>\n",
              "<style scoped>\n",
              "    .dataframe tbody tr th:only-of-type {\n",
              "        vertical-align: middle;\n",
              "    }\n",
              "\n",
              "    .dataframe tbody tr th {\n",
              "        vertical-align: top;\n",
              "    }\n",
              "\n",
              "    .dataframe thead th {\n",
              "        text-align: right;\n",
              "    }\n",
              "</style>\n",
              "<table border=\"1\" class=\"dataframe\">\n",
              "  <thead>\n",
              "    <tr style=\"text-align: right;\">\n",
              "      <th></th>\n",
              "      <th>img_card_0</th>\n",
              "      <th>img_card_1</th>\n",
              "      <th>img_card_2</th>\n",
              "      <th>int_card_0</th>\n",
              "      <th>int_card_1</th>\n",
              "      <th>int_card_2</th>\n",
              "      <th>digit_card_00</th>\n",
              "      <th>digit_card_01</th>\n",
              "      <th>digit_card_02</th>\n",
              "      <th>digit_card_03</th>\n",
              "      <th>digit_card_10</th>\n",
              "      <th>digit_card_11</th>\n",
              "      <th>digit_card_12</th>\n",
              "      <th>digit_card_13</th>\n",
              "      <th>digit_card_20</th>\n",
              "      <th>digit_card_21</th>\n",
              "      <th>digit_card_22</th>\n",
              "      <th>digit_card_23</th>\n",
              "      <th>is_set</th>\n",
              "      <th>same_cnt</th>\n",
              "      <th>diff_cnt</th>\n",
              "      <th>no_set</th>\n",
              "    </tr>\n",
              "  </thead>\n",
              "  <tbody>\n",
              "    <tr>\n",
              "      <th>0</th>\n",
              "      <td>red_open_circle_black.png</td>\n",
              "      <td>red_open_circle_grey.png</td>\n",
              "      <td>red_open_circle_white.png</td>\n",
              "      <td>0,0,0,0</td>\n",
              "      <td>0,0,0,1</td>\n",
              "      <td>0,0,0,2</td>\n",
              "      <td>255,0,0</td>\n",
              "      <td>0.0</td>\n",
              "      <td>0</td>\n",
              "      <td>0,0,0</td>\n",
              "      <td>255,0,0</td>\n",
              "      <td>0.0</td>\n",
              "      <td>0</td>\n",
              "      <td>128,128,128</td>\n",
              "      <td>255,0,0</td>\n",
              "      <td>0.0</td>\n",
              "      <td>0</td>\n",
              "      <td>255,255,255</td>\n",
              "      <td>1</td>\n",
              "      <td>3</td>\n",
              "      <td>1</td>\n",
              "      <td>0</td>\n",
              "    </tr>\n",
              "    <tr>\n",
              "      <th>1</th>\n",
              "      <td>red_open_circle_black.png</td>\n",
              "      <td>red_open_triangle_black.png</td>\n",
              "      <td>red_open_square_black.png</td>\n",
              "      <td>0,0,0,0</td>\n",
              "      <td>0,0,1,0</td>\n",
              "      <td>0,0,2,0</td>\n",
              "      <td>255,0,0</td>\n",
              "      <td>0.0</td>\n",
              "      <td>0</td>\n",
              "      <td>0,0,0</td>\n",
              "      <td>255,0,0</td>\n",
              "      <td>0.0</td>\n",
              "      <td>3</td>\n",
              "      <td>0,0,0</td>\n",
              "      <td>255,0,0</td>\n",
              "      <td>0.0</td>\n",
              "      <td>4</td>\n",
              "      <td>0,0,0</td>\n",
              "      <td>1</td>\n",
              "      <td>3</td>\n",
              "      <td>1</td>\n",
              "      <td>0</td>\n",
              "    </tr>\n",
              "    <tr>\n",
              "      <th>2</th>\n",
              "      <td>red_open_circle_black.png</td>\n",
              "      <td>red_open_triangle_black.png</td>\n",
              "      <td>yellow_open_triangle_white.png</td>\n",
              "      <td>0,0,0,0</td>\n",
              "      <td>0,0,1,0</td>\n",
              "      <td>1,0,1,2</td>\n",
              "      <td>255,0,0</td>\n",
              "      <td>0.0</td>\n",
              "      <td>0</td>\n",
              "      <td>0,0,0</td>\n",
              "      <td>255,0,0</td>\n",
              "      <td>0.0</td>\n",
              "      <td>3</td>\n",
              "      <td>0,0,0</td>\n",
              "      <td>255,255,0</td>\n",
              "      <td>0.0</td>\n",
              "      <td>3</td>\n",
              "      <td>255,255,255</td>\n",
              "      <td>0</td>\n",
              "      <td>1</td>\n",
              "      <td>0</td>\n",
              "      <td>1</td>\n",
              "    </tr>\n",
              "    <tr>\n",
              "      <th>3</th>\n",
              "      <td>red_open_circle_black.png</td>\n",
              "      <td>red_open_triangle_black.png</td>\n",
              "      <td>yellow_striped_square_white.png</td>\n",
              "      <td>0,0,0,0</td>\n",
              "      <td>0,0,1,0</td>\n",
              "      <td>1,1,2,2</td>\n",
              "      <td>255,0,0</td>\n",
              "      <td>0.0</td>\n",
              "      <td>0</td>\n",
              "      <td>0,0,0</td>\n",
              "      <td>255,0,0</td>\n",
              "      <td>0.0</td>\n",
              "      <td>3</td>\n",
              "      <td>0,0,0</td>\n",
              "      <td>255,255,0</td>\n",
              "      <td>0.5</td>\n",
              "      <td>4</td>\n",
              "      <td>255,255,255</td>\n",
              "      <td>0</td>\n",
              "      <td>0</td>\n",
              "      <td>1</td>\n",
              "      <td>1</td>\n",
              "    </tr>\n",
              "    <tr>\n",
              "      <th>4</th>\n",
              "      <td>red_open_circle_black.png</td>\n",
              "      <td>red_open_triangle_black.png</td>\n",
              "      <td>green_solid_triangle_white.png</td>\n",
              "      <td>0,0,0,0</td>\n",
              "      <td>0,0,1,0</td>\n",
              "      <td>2,2,1,2</td>\n",
              "      <td>255,0,0</td>\n",
              "      <td>0.0</td>\n",
              "      <td>0</td>\n",
              "      <td>0,0,0</td>\n",
              "      <td>255,0,0</td>\n",
              "      <td>0.0</td>\n",
              "      <td>3</td>\n",
              "      <td>0,0,0</td>\n",
              "      <td>0,128,0</td>\n",
              "      <td>1.0</td>\n",
              "      <td>3</td>\n",
              "      <td>255,255,255</td>\n",
              "      <td>0</td>\n",
              "      <td>0</td>\n",
              "      <td>0</td>\n",
              "      <td>1</td>\n",
              "    </tr>\n",
              "    <tr>\n",
              "      <th>...</th>\n",
              "      <td>...</td>\n",
              "      <td>...</td>\n",
              "      <td>...</td>\n",
              "      <td>...</td>\n",
              "      <td>...</td>\n",
              "      <td>...</td>\n",
              "      <td>...</td>\n",
              "      <td>...</td>\n",
              "      <td>...</td>\n",
              "      <td>...</td>\n",
              "      <td>...</td>\n",
              "      <td>...</td>\n",
              "      <td>...</td>\n",
              "      <td>...</td>\n",
              "      <td>...</td>\n",
              "      <td>...</td>\n",
              "      <td>...</td>\n",
              "      <td>...</td>\n",
              "      <td>...</td>\n",
              "      <td>...</td>\n",
              "      <td>...</td>\n",
              "      <td>...</td>\n",
              "    </tr>\n",
              "    <tr>\n",
              "      <th>2155</th>\n",
              "      <td>green_solid_circle_white.png</td>\n",
              "      <td>green_solid_triangle_black.png</td>\n",
              "      <td>green_solid_square_grey.png</td>\n",
              "      <td>2,2,0,2</td>\n",
              "      <td>2,2,1,0</td>\n",
              "      <td>2,2,2,1</td>\n",
              "      <td>0,128,0</td>\n",
              "      <td>1.0</td>\n",
              "      <td>0</td>\n",
              "      <td>255,255,255</td>\n",
              "      <td>0,128,0</td>\n",
              "      <td>1.0</td>\n",
              "      <td>3</td>\n",
              "      <td>0,0,0</td>\n",
              "      <td>0,128,0</td>\n",
              "      <td>1.0</td>\n",
              "      <td>4</td>\n",
              "      <td>128,128,128</td>\n",
              "      <td>1</td>\n",
              "      <td>2</td>\n",
              "      <td>2</td>\n",
              "      <td>0</td>\n",
              "    </tr>\n",
              "    <tr>\n",
              "      <th>2156</th>\n",
              "      <td>green_solid_circle_white.png</td>\n",
              "      <td>green_solid_triangle_grey.png</td>\n",
              "      <td>green_solid_square_black.png</td>\n",
              "      <td>2,2,0,2</td>\n",
              "      <td>2,2,1,1</td>\n",
              "      <td>2,2,2,0</td>\n",
              "      <td>0,128,0</td>\n",
              "      <td>1.0</td>\n",
              "      <td>0</td>\n",
              "      <td>255,255,255</td>\n",
              "      <td>0,128,0</td>\n",
              "      <td>1.0</td>\n",
              "      <td>3</td>\n",
              "      <td>128,128,128</td>\n",
              "      <td>0,128,0</td>\n",
              "      <td>1.0</td>\n",
              "      <td>4</td>\n",
              "      <td>0,0,0</td>\n",
              "      <td>1</td>\n",
              "      <td>2</td>\n",
              "      <td>2</td>\n",
              "      <td>0</td>\n",
              "    </tr>\n",
              "    <tr>\n",
              "      <th>2157</th>\n",
              "      <td>green_solid_circle_white.png</td>\n",
              "      <td>green_solid_triangle_white.png</td>\n",
              "      <td>green_solid_square_white.png</td>\n",
              "      <td>2,2,0,2</td>\n",
              "      <td>2,2,1,2</td>\n",
              "      <td>2,2,2,2</td>\n",
              "      <td>0,128,0</td>\n",
              "      <td>1.0</td>\n",
              "      <td>0</td>\n",
              "      <td>255,255,255</td>\n",
              "      <td>0,128,0</td>\n",
              "      <td>1.0</td>\n",
              "      <td>3</td>\n",
              "      <td>255,255,255</td>\n",
              "      <td>0,128,0</td>\n",
              "      <td>1.0</td>\n",
              "      <td>4</td>\n",
              "      <td>255,255,255</td>\n",
              "      <td>1</td>\n",
              "      <td>3</td>\n",
              "      <td>1</td>\n",
              "      <td>0</td>\n",
              "    </tr>\n",
              "    <tr>\n",
              "      <th>2158</th>\n",
              "      <td>green_solid_triangle_black.png</td>\n",
              "      <td>green_solid_triangle_grey.png</td>\n",
              "      <td>green_solid_triangle_white.png</td>\n",
              "      <td>2,2,1,0</td>\n",
              "      <td>2,2,1,1</td>\n",
              "      <td>2,2,1,2</td>\n",
              "      <td>0,128,0</td>\n",
              "      <td>1.0</td>\n",
              "      <td>3</td>\n",
              "      <td>0,0,0</td>\n",
              "      <td>0,128,0</td>\n",
              "      <td>1.0</td>\n",
              "      <td>3</td>\n",
              "      <td>128,128,128</td>\n",
              "      <td>0,128,0</td>\n",
              "      <td>1.0</td>\n",
              "      <td>3</td>\n",
              "      <td>255,255,255</td>\n",
              "      <td>1</td>\n",
              "      <td>3</td>\n",
              "      <td>1</td>\n",
              "      <td>0</td>\n",
              "    </tr>\n",
              "    <tr>\n",
              "      <th>2159</th>\n",
              "      <td>green_solid_square_black.png</td>\n",
              "      <td>green_solid_square_grey.png</td>\n",
              "      <td>green_solid_square_white.png</td>\n",
              "      <td>2,2,2,0</td>\n",
              "      <td>2,2,2,1</td>\n",
              "      <td>2,2,2,2</td>\n",
              "      <td>0,128,0</td>\n",
              "      <td>1.0</td>\n",
              "      <td>4</td>\n",
              "      <td>0,0,0</td>\n",
              "      <td>0,128,0</td>\n",
              "      <td>1.0</td>\n",
              "      <td>4</td>\n",
              "      <td>128,128,128</td>\n",
              "      <td>0,128,0</td>\n",
              "      <td>1.0</td>\n",
              "      <td>4</td>\n",
              "      <td>255,255,255</td>\n",
              "      <td>1</td>\n",
              "      <td>3</td>\n",
              "      <td>1</td>\n",
              "      <td>0</td>\n",
              "    </tr>\n",
              "  </tbody>\n",
              "</table>\n",
              "<p>2160 rows × 22 columns</p>\n",
              "</div>\n",
              "      <button class=\"colab-df-convert\" onclick=\"convertToInteractive('df-6654a35d-5058-4f2e-8379-ffd449204e61')\"\n",
              "              title=\"Convert this dataframe to an interactive table.\"\n",
              "              style=\"display:none;\">\n",
              "        \n",
              "  <svg xmlns=\"http://www.w3.org/2000/svg\" height=\"24px\"viewBox=\"0 0 24 24\"\n",
              "       width=\"24px\">\n",
              "    <path d=\"M0 0h24v24H0V0z\" fill=\"none\"/>\n",
              "    <path d=\"M18.56 5.44l.94 2.06.94-2.06 2.06-.94-2.06-.94-.94-2.06-.94 2.06-2.06.94zm-11 1L8.5 8.5l.94-2.06 2.06-.94-2.06-.94L8.5 2.5l-.94 2.06-2.06.94zm10 10l.94 2.06.94-2.06 2.06-.94-2.06-.94-.94-2.06-.94 2.06-2.06.94z\"/><path d=\"M17.41 7.96l-1.37-1.37c-.4-.4-.92-.59-1.43-.59-.52 0-1.04.2-1.43.59L10.3 9.45l-7.72 7.72c-.78.78-.78 2.05 0 2.83L4 21.41c.39.39.9.59 1.41.59.51 0 1.02-.2 1.41-.59l7.78-7.78 2.81-2.81c.8-.78.8-2.07 0-2.86zM5.41 20L4 18.59l7.72-7.72 1.47 1.35L5.41 20z\"/>\n",
              "  </svg>\n",
              "      </button>\n",
              "      \n",
              "  <style>\n",
              "    .colab-df-container {\n",
              "      display:flex;\n",
              "      flex-wrap:wrap;\n",
              "      gap: 12px;\n",
              "    }\n",
              "\n",
              "    .colab-df-convert {\n",
              "      background-color: #E8F0FE;\n",
              "      border: none;\n",
              "      border-radius: 50%;\n",
              "      cursor: pointer;\n",
              "      display: none;\n",
              "      fill: #1967D2;\n",
              "      height: 32px;\n",
              "      padding: 0 0 0 0;\n",
              "      width: 32px;\n",
              "    }\n",
              "\n",
              "    .colab-df-convert:hover {\n",
              "      background-color: #E2EBFA;\n",
              "      box-shadow: 0px 1px 2px rgba(60, 64, 67, 0.3), 0px 1px 3px 1px rgba(60, 64, 67, 0.15);\n",
              "      fill: #174EA6;\n",
              "    }\n",
              "\n",
              "    [theme=dark] .colab-df-convert {\n",
              "      background-color: #3B4455;\n",
              "      fill: #D2E3FC;\n",
              "    }\n",
              "\n",
              "    [theme=dark] .colab-df-convert:hover {\n",
              "      background-color: #434B5C;\n",
              "      box-shadow: 0px 1px 3px 1px rgba(0, 0, 0, 0.15);\n",
              "      filter: drop-shadow(0px 1px 2px rgba(0, 0, 0, 0.3));\n",
              "      fill: #FFFFFF;\n",
              "    }\n",
              "  </style>\n",
              "\n",
              "      <script>\n",
              "        const buttonEl =\n",
              "          document.querySelector('#df-6654a35d-5058-4f2e-8379-ffd449204e61 button.colab-df-convert');\n",
              "        buttonEl.style.display =\n",
              "          google.colab.kernel.accessAllowed ? 'block' : 'none';\n",
              "\n",
              "        async function convertToInteractive(key) {\n",
              "          const element = document.querySelector('#df-6654a35d-5058-4f2e-8379-ffd449204e61');\n",
              "          const dataTable =\n",
              "            await google.colab.kernel.invokeFunction('convertToInteractive',\n",
              "                                                     [key], {});\n",
              "          if (!dataTable) return;\n",
              "\n",
              "          const docLinkHtml = 'Like what you see? Visit the ' +\n",
              "            '<a target=\"_blank\" href=https://colab.research.google.com/notebooks/data_table.ipynb>data table notebook</a>'\n",
              "            + ' to learn more about interactive tables.';\n",
              "          element.innerHTML = '';\n",
              "          dataTable['output_type'] = 'display_data';\n",
              "          await google.colab.output.renderOutput(dataTable, element);\n",
              "          const docLink = document.createElement('div');\n",
              "          docLink.innerHTML = docLinkHtml;\n",
              "          element.appendChild(docLink);\n",
              "        }\n",
              "      </script>\n",
              "    </div>\n",
              "  </div>\n",
              "  "
            ],
            "text/plain": [
              "                          img_card_0  ... no_set\n",
              "0          red_open_circle_black.png  ...      0\n",
              "1          red_open_circle_black.png  ...      0\n",
              "2          red_open_circle_black.png  ...      1\n",
              "3          red_open_circle_black.png  ...      1\n",
              "4          red_open_circle_black.png  ...      1\n",
              "...                              ...  ...    ...\n",
              "2155    green_solid_circle_white.png  ...      0\n",
              "2156    green_solid_circle_white.png  ...      0\n",
              "2157    green_solid_circle_white.png  ...      0\n",
              "2158  green_solid_triangle_black.png  ...      0\n",
              "2159    green_solid_square_black.png  ...      0\n",
              "\n",
              "[2160 rows x 22 columns]"
            ]
          },
          "metadata": {},
          "execution_count": 7
        }
      ]
    },
    {
      "cell_type": "markdown",
      "source": [
        "### Reshape"
      ],
      "metadata": {
        "id": "qehjhJWzDoa-"
      }
    },
    {
      "cell_type": "code",
      "source": [
        "digit_card = file_read[['int_card_0', 'int_card_1', 'int_card_2', 'is_set']]"
      ],
      "metadata": {
        "id": "yZ76uVQFcRy1"
      },
      "execution_count": 8,
      "outputs": []
    },
    {
      "cell_type": "code",
      "source": [
        "zero = digit_card[str(digit_card.columns[0])].str.split(',', expand=True)\n",
        "one = digit_card[str(digit_card.columns[1])].str.split(',', expand=True)\n",
        "two = digit_card[str(digit_card.columns[2])].str.split(',', expand=True)\n",
        "is_set = digit_card[str(digit_card.columns[3])]"
      ],
      "metadata": {
        "id": "GGIwYw7JsCOX"
      },
      "execution_count": 9,
      "outputs": []
    },
    {
      "cell_type": "code",
      "source": [
        "stimuli = pd.concat([zero, one, two, is_set], ignore_index = True ,axis=1)"
      ],
      "metadata": {
        "id": "M08crZbl5aEC"
      },
      "execution_count": 10,
      "outputs": []
    },
    {
      "cell_type": "code",
      "source": [
        "stimuli[12].value_counts()"
      ],
      "metadata": {
        "colab": {
          "base_uri": "https://localhost:8080/"
        },
        "id": "d5Ad5k7IITY5",
        "outputId": "47df3b7e-3156-4c06-9097-f2eafa74c799"
      },
      "execution_count": 11,
      "outputs": [
        {
          "output_type": "execute_result",
          "data": {
            "text/plain": [
              "1    1080\n",
              "0    1080\n",
              "Name: 12, dtype: int64"
            ]
          },
          "metadata": {},
          "execution_count": 11
        }
      ]
    },
    {
      "cell_type": "markdown",
      "source": [
        "### Shuffle"
      ],
      "metadata": {
        "id": "BzuPq1DQJjWr"
      }
    },
    {
      "cell_type": "code",
      "source": [
        "shuffled_stimuli = stimuli.sample(frac=1)"
      ],
      "metadata": {
        "id": "7Mex0LZ_Hhiw"
      },
      "execution_count": 12,
      "outputs": []
    },
    {
      "cell_type": "code",
      "source": [
        "shuffled_stimuli.head()"
      ],
      "metadata": {
        "colab": {
          "base_uri": "https://localhost:8080/",
          "height": 206
        },
        "id": "Cphh7IJ2tToC",
        "outputId": "9c20d5cb-0472-4d52-a039-cca500f637fd"
      },
      "execution_count": 13,
      "outputs": [
        {
          "output_type": "execute_result",
          "data": {
            "text/html": [
              "\n",
              "  <div id=\"df-2f5896c0-78a6-4d58-99c8-eed8da5f1ce4\">\n",
              "    <div class=\"colab-df-container\">\n",
              "      <div>\n",
              "<style scoped>\n",
              "    .dataframe tbody tr th:only-of-type {\n",
              "        vertical-align: middle;\n",
              "    }\n",
              "\n",
              "    .dataframe tbody tr th {\n",
              "        vertical-align: top;\n",
              "    }\n",
              "\n",
              "    .dataframe thead th {\n",
              "        text-align: right;\n",
              "    }\n",
              "</style>\n",
              "<table border=\"1\" class=\"dataframe\">\n",
              "  <thead>\n",
              "    <tr style=\"text-align: right;\">\n",
              "      <th></th>\n",
              "      <th>0</th>\n",
              "      <th>1</th>\n",
              "      <th>2</th>\n",
              "      <th>3</th>\n",
              "      <th>4</th>\n",
              "      <th>5</th>\n",
              "      <th>6</th>\n",
              "      <th>7</th>\n",
              "      <th>8</th>\n",
              "      <th>9</th>\n",
              "      <th>10</th>\n",
              "      <th>11</th>\n",
              "      <th>12</th>\n",
              "    </tr>\n",
              "  </thead>\n",
              "  <tbody>\n",
              "    <tr>\n",
              "      <th>908</th>\n",
              "      <td>0</td>\n",
              "      <td>1</td>\n",
              "      <td>1</td>\n",
              "      <td>1</td>\n",
              "      <td>0</td>\n",
              "      <td>2</td>\n",
              "      <td>1</td>\n",
              "      <td>0</td>\n",
              "      <td>1</td>\n",
              "      <td>2</td>\n",
              "      <td>2</td>\n",
              "      <td>0</td>\n",
              "      <td>0</td>\n",
              "    </tr>\n",
              "    <tr>\n",
              "      <th>1545</th>\n",
              "      <td>0</td>\n",
              "      <td>2</td>\n",
              "      <td>2</td>\n",
              "      <td>1</td>\n",
              "      <td>1</td>\n",
              "      <td>1</td>\n",
              "      <td>0</td>\n",
              "      <td>0</td>\n",
              "      <td>2</td>\n",
              "      <td>0</td>\n",
              "      <td>1</td>\n",
              "      <td>2</td>\n",
              "      <td>1</td>\n",
              "    </tr>\n",
              "    <tr>\n",
              "      <th>2143</th>\n",
              "      <td>2</td>\n",
              "      <td>1</td>\n",
              "      <td>1</td>\n",
              "      <td>0</td>\n",
              "      <td>2</td>\n",
              "      <td>1</td>\n",
              "      <td>1</td>\n",
              "      <td>1</td>\n",
              "      <td>2</td>\n",
              "      <td>1</td>\n",
              "      <td>1</td>\n",
              "      <td>2</td>\n",
              "      <td>1</td>\n",
              "    </tr>\n",
              "    <tr>\n",
              "      <th>407</th>\n",
              "      <td>0</td>\n",
              "      <td>0</td>\n",
              "      <td>1</td>\n",
              "      <td>2</td>\n",
              "      <td>0</td>\n",
              "      <td>2</td>\n",
              "      <td>2</td>\n",
              "      <td>2</td>\n",
              "      <td>2</td>\n",
              "      <td>1</td>\n",
              "      <td>1</td>\n",
              "      <td>2</td>\n",
              "      <td>0</td>\n",
              "    </tr>\n",
              "    <tr>\n",
              "      <th>1765</th>\n",
              "      <td>1</td>\n",
              "      <td>0</td>\n",
              "      <td>1</td>\n",
              "      <td>2</td>\n",
              "      <td>1</td>\n",
              "      <td>1</td>\n",
              "      <td>2</td>\n",
              "      <td>2</td>\n",
              "      <td>2</td>\n",
              "      <td>2</td>\n",
              "      <td>0</td>\n",
              "      <td>0</td>\n",
              "      <td>0</td>\n",
              "    </tr>\n",
              "  </tbody>\n",
              "</table>\n",
              "</div>\n",
              "      <button class=\"colab-df-convert\" onclick=\"convertToInteractive('df-2f5896c0-78a6-4d58-99c8-eed8da5f1ce4')\"\n",
              "              title=\"Convert this dataframe to an interactive table.\"\n",
              "              style=\"display:none;\">\n",
              "        \n",
              "  <svg xmlns=\"http://www.w3.org/2000/svg\" height=\"24px\"viewBox=\"0 0 24 24\"\n",
              "       width=\"24px\">\n",
              "    <path d=\"M0 0h24v24H0V0z\" fill=\"none\"/>\n",
              "    <path d=\"M18.56 5.44l.94 2.06.94-2.06 2.06-.94-2.06-.94-.94-2.06-.94 2.06-2.06.94zm-11 1L8.5 8.5l.94-2.06 2.06-.94-2.06-.94L8.5 2.5l-.94 2.06-2.06.94zm10 10l.94 2.06.94-2.06 2.06-.94-2.06-.94-.94-2.06-.94 2.06-2.06.94z\"/><path d=\"M17.41 7.96l-1.37-1.37c-.4-.4-.92-.59-1.43-.59-.52 0-1.04.2-1.43.59L10.3 9.45l-7.72 7.72c-.78.78-.78 2.05 0 2.83L4 21.41c.39.39.9.59 1.41.59.51 0 1.02-.2 1.41-.59l7.78-7.78 2.81-2.81c.8-.78.8-2.07 0-2.86zM5.41 20L4 18.59l7.72-7.72 1.47 1.35L5.41 20z\"/>\n",
              "  </svg>\n",
              "      </button>\n",
              "      \n",
              "  <style>\n",
              "    .colab-df-container {\n",
              "      display:flex;\n",
              "      flex-wrap:wrap;\n",
              "      gap: 12px;\n",
              "    }\n",
              "\n",
              "    .colab-df-convert {\n",
              "      background-color: #E8F0FE;\n",
              "      border: none;\n",
              "      border-radius: 50%;\n",
              "      cursor: pointer;\n",
              "      display: none;\n",
              "      fill: #1967D2;\n",
              "      height: 32px;\n",
              "      padding: 0 0 0 0;\n",
              "      width: 32px;\n",
              "    }\n",
              "\n",
              "    .colab-df-convert:hover {\n",
              "      background-color: #E2EBFA;\n",
              "      box-shadow: 0px 1px 2px rgba(60, 64, 67, 0.3), 0px 1px 3px 1px rgba(60, 64, 67, 0.15);\n",
              "      fill: #174EA6;\n",
              "    }\n",
              "\n",
              "    [theme=dark] .colab-df-convert {\n",
              "      background-color: #3B4455;\n",
              "      fill: #D2E3FC;\n",
              "    }\n",
              "\n",
              "    [theme=dark] .colab-df-convert:hover {\n",
              "      background-color: #434B5C;\n",
              "      box-shadow: 0px 1px 3px 1px rgba(0, 0, 0, 0.15);\n",
              "      filter: drop-shadow(0px 1px 2px rgba(0, 0, 0, 0.3));\n",
              "      fill: #FFFFFF;\n",
              "    }\n",
              "  </style>\n",
              "\n",
              "      <script>\n",
              "        const buttonEl =\n",
              "          document.querySelector('#df-2f5896c0-78a6-4d58-99c8-eed8da5f1ce4 button.colab-df-convert');\n",
              "        buttonEl.style.display =\n",
              "          google.colab.kernel.accessAllowed ? 'block' : 'none';\n",
              "\n",
              "        async function convertToInteractive(key) {\n",
              "          const element = document.querySelector('#df-2f5896c0-78a6-4d58-99c8-eed8da5f1ce4');\n",
              "          const dataTable =\n",
              "            await google.colab.kernel.invokeFunction('convertToInteractive',\n",
              "                                                     [key], {});\n",
              "          if (!dataTable) return;\n",
              "\n",
              "          const docLinkHtml = 'Like what you see? Visit the ' +\n",
              "            '<a target=\"_blank\" href=https://colab.research.google.com/notebooks/data_table.ipynb>data table notebook</a>'\n",
              "            + ' to learn more about interactive tables.';\n",
              "          element.innerHTML = '';\n",
              "          dataTable['output_type'] = 'display_data';\n",
              "          await google.colab.output.renderOutput(dataTable, element);\n",
              "          const docLink = document.createElement('div');\n",
              "          docLink.innerHTML = docLinkHtml;\n",
              "          element.appendChild(docLink);\n",
              "        }\n",
              "      </script>\n",
              "    </div>\n",
              "  </div>\n",
              "  "
            ],
            "text/plain": [
              "     0  1  2  3  4  5  6  7  8  9  10 11  12\n",
              "908   0  1  1  1  0  2  1  0  1  2  2  0   0\n",
              "1545  0  2  2  1  1  1  0  0  2  0  1  2   1\n",
              "2143  2  1  1  0  2  1  1  1  2  1  1  2   1\n",
              "407   0  0  1  2  0  2  2  2  2  1  1  2   0\n",
              "1765  1  0  1  2  1  1  2  2  2  2  0  0   0"
            ]
          },
          "metadata": {},
          "execution_count": 13
        }
      ]
    },
    {
      "cell_type": "code",
      "source": [
        "shuffled_stimuli = shuffled_stimuli.to_numpy()"
      ],
      "metadata": {
        "id": "WOsH8SdZtZ1p"
      },
      "execution_count": 14,
      "outputs": []
    },
    {
      "cell_type": "code",
      "source": [
        "shuffled_stimuli.shape"
      ],
      "metadata": {
        "colab": {
          "base_uri": "https://localhost:8080/"
        },
        "id": "F2bBbR2tU9HB",
        "outputId": "410aa16a-61c5-4185-b94f-c5b5af3a15b1"
      },
      "execution_count": 15,
      "outputs": [
        {
          "output_type": "execute_result",
          "data": {
            "text/plain": [
              "(2160, 13)"
            ]
          },
          "metadata": {},
          "execution_count": 15
        }
      ]
    },
    {
      "cell_type": "code",
      "source": [
        "shuffled_stimuli.astype('float')"
      ],
      "metadata": {
        "colab": {
          "base_uri": "https://localhost:8080/"
        },
        "id": "DcdmZCfZU-HT",
        "outputId": "975bd047-5954-46b0-f607-05c7e35675ce"
      },
      "execution_count": 16,
      "outputs": [
        {
          "output_type": "execute_result",
          "data": {
            "text/plain": [
              "array([[0., 1., 1., ..., 2., 0., 0.],\n",
              "       [0., 2., 2., ..., 1., 2., 1.],\n",
              "       [2., 1., 1., ..., 1., 2., 1.],\n",
              "       ...,\n",
              "       [0., 0., 2., ..., 1., 1., 1.],\n",
              "       [0., 0., 0., ..., 1., 0., 0.],\n",
              "       [1., 0., 0., ..., 1., 1., 0.]])"
            ]
          },
          "metadata": {},
          "execution_count": 16
        }
      ]
    },
    {
      "cell_type": "markdown",
      "source": [
        "# DQN"
      ],
      "metadata": {
        "id": "gkY7SKNd5Ni9"
      }
    },
    {
      "cell_type": "markdown",
      "source": [
        "### Import"
      ],
      "metadata": {
        "id": "ozZauHQIEgSE"
      }
    },
    {
      "cell_type": "code",
      "source": [
        "import time\n",
        "import json\n",
        "import torch\n",
        "import random\n",
        "import torch.optim         as optim\n",
        "import numpy               as np\n",
        "import torch.nn            as nn\n",
        "import matplotlib.pyplot   as plt\n",
        "import torch.nn.functional as F\n",
        "from collections           import namedtuple, deque\n",
        "%matplotlib inline"
      ],
      "metadata": {
        "id": "o1mTXXbR5PE2"
      },
      "execution_count": 17,
      "outputs": []
    },
    {
      "cell_type": "code",
      "source": [
        "device = torch.device(\"cuda:0\" if torch.cuda.is_available() else \"cpu\")"
      ],
      "metadata": {
        "id": "U7A3qdgRCxQB"
      },
      "execution_count": 18,
      "outputs": []
    },
    {
      "cell_type": "markdown",
      "source": [
        "### Hyperparameters"
      ],
      "metadata": {
        "id": "rXXgiK7PCfbV"
      }
    },
    {
      "cell_type": "code",
      "source": [
        "BUFFER_SIZE = int(1e6)  # replay buffer size\n",
        "BATCH_SIZE = 256        # minibatch size\n",
        "GAMMA = 0.99            # discount factor\n",
        "TAU = 1e-7              # for soft update of target parameters\n",
        "LR = 1e-3               # learning rate \n",
        "UPDATE_EVERY = 1        # how often to update the network"
      ],
      "metadata": {
        "id": "JyKIn3qpCeoS"
      },
      "execution_count": 19,
      "outputs": []
    },
    {
      "cell_type": "markdown",
      "source": [
        "### QNetwork"
      ],
      "metadata": {
        "id": "SGzc8maI40Sw"
      }
    },
    {
      "cell_type": "code",
      "source": [
        "class QNetwork(nn.Module):\n",
        "    def __init__(self, state_size, action_size, seed):\n",
        "        super(QNetwork, self).__init__()\n",
        "        fc1_units = 256\n",
        "        fc2_units = 256\n",
        "        \n",
        "        self.fc1 = nn.Linear(state_size, fc1_units)\n",
        "        self.fc2 = nn.Linear(fc1_units, fc2_units)\n",
        "        self.fc3 = nn.Linear(fc2_units, fc2_units)\n",
        "        self.fc4 = nn.Linear(fc2_units, action_size)\n",
        "        self.bn1 = nn.BatchNorm1d(fc1_units)\n",
        "        self.bn2 = nn.BatchNorm1d(fc2_units)\n",
        "        self.seed = seed\n",
        "\n",
        "    def forward(self, state):\n",
        "        \"\"\"Build a network that maps state -> action values.\"\"\"\n",
        "        x = F.relu(self.fc1(state))\n",
        "        x = self.bn1(x)\n",
        "        x = F.relu(self.fc2(x))\n",
        "        x = self.bn2(x)\n",
        "        x = F.relu(self.fc3(x))\n",
        "        x = self.fc4(x)\n",
        "        \n",
        "        return x"
      ],
      "metadata": {
        "id": "AEXCbTNgDKxT"
      },
      "execution_count": 20,
      "outputs": []
    },
    {
      "cell_type": "markdown",
      "source": [
        "### Replay Buffer"
      ],
      "metadata": {
        "id": "EtOcoMVj_IkV"
      }
    },
    {
      "cell_type": "code",
      "source": [
        "class ReplayBuffer:\n",
        "    \"\"\"Fixed-size buffer to store experience tuples.\"\"\"\n",
        "\n",
        "    def __init__(self, action_size, buffer_size, batch_size, seed):\n",
        "        \"\"\"Initialize a ReplayBuffer object.\n",
        "        Params\n",
        "        ======\n",
        "            action_size (int): dimension of each action\n",
        "            buffer_size (int): maximum size of buffer\n",
        "            batch_size (int): size of each training batch\n",
        "            seed (int): random seed\n",
        "        \"\"\"\n",
        "        self.action_size = action_size\n",
        "        self.memory = deque(maxlen=buffer_size)\n",
        "        self.batch_size = batch_size\n",
        "        self.experience = namedtuple(\"Experience\", field_names=[\"state\", \"action\", \"reward\", \"done\"])\n",
        "        self.seed = random.seed(seed)\n",
        "\n",
        "    def add(self, state, action, reward, done):\n",
        "        \"\"\"Add a new experience to memory.\"\"\"\n",
        "        e = self.experience(state, action, reward, done)\n",
        "        self.memory.append(e)\n",
        "\n",
        "    def sample(self):\n",
        "        \"\"\"Randomly sample a batch of experiences from memory.\"\"\"\n",
        "        experiences = random.sample(self.memory, k=self.batch_size)\n",
        "\n",
        "        states = torch.from_numpy(np.vstack([e.state for e in experiences if e is not None])).float().to(device)\n",
        "        actions = torch.from_numpy(np.vstack([e.action for e in experiences if e is not None])).long().to(device)\n",
        "        rewards = torch.from_numpy(np.vstack([e.reward for e in experiences if e is not None])).float().to(device)\n",
        "        dones = torch.from_numpy(np.vstack([e.done for e in experiences if e is not None]).astype(np.uint8)).float().to(device)\n",
        "\n",
        "        return (states, actions, rewards, dones)\n",
        "\n",
        "    def __len__(self):\n",
        "        \"\"\"Return the current size of internal memory.\"\"\"\n",
        "        return len(self.memory)"
      ],
      "metadata": {
        "id": "O7foml5L_HSv"
      },
      "execution_count": 21,
      "outputs": []
    },
    {
      "cell_type": "markdown",
      "source": [
        "### Agent"
      ],
      "metadata": {
        "id": "JanC0IvX_jAZ"
      }
    },
    {
      "cell_type": "code",
      "source": [
        "class Agent():\n",
        "    \"\"\"Interacts with and learns from the environment.\"\"\"\n",
        "\n",
        "    def __init__(self, state_size, action_size, seed):\n",
        "        \"\"\"Initialize an Agent object.\n",
        "        \n",
        "        Params\n",
        "        ======\n",
        "            state_size (int): dimension of each state\n",
        "            action_size (int): dimension of each action\n",
        "            seed (int): random seed\n",
        "        \"\"\"\n",
        "        self.state_size = state_size\n",
        "        self.action_size = action_size\n",
        "        self.seed = random.seed(seed)\n",
        "\n",
        "        # Q-Network\n",
        "        self.qnetwork_local = QNetwork(state_size, action_size, seed).to(device)\n",
        "        self.qnetwork_target = QNetwork(state_size, action_size, seed).to(device)\n",
        "        self.optimizer = optim.Adam(self.qnetwork_local.parameters(), lr=LR)\n",
        "\n",
        "        # Replay memory\n",
        "        self.memory = ReplayBuffer(action_size, BUFFER_SIZE, BATCH_SIZE, seed)\n",
        "        # Initialize time step (for updating every UPDATE_EVERY steps)\n",
        "        self.t_step = 0\n",
        "    \n",
        "    def step(self, state, action, reward, done):\n",
        "        # Save experience in replay memory\n",
        "        self.memory.add(state, action, reward, done)\n",
        "        \n",
        "        # Learn every UPDATE_EVERY time steps.\n",
        "        self.t_step = (self.t_step + 1) % UPDATE_EVERY\n",
        "        if self.t_step == 0:\n",
        "            # If enough samples are available in memory, get random subset and learn\n",
        "            if len(self.memory) > BATCH_SIZE:\n",
        "                experiences = self.memory.sample()\n",
        "                self.learn(experiences, GAMMA)\n",
        "\n",
        "    def act(self, state, eps=0.):\n",
        "        \"\"\"Returns actions for given state as per current policy.\n",
        "        \n",
        "        Params\n",
        "        ======\n",
        "            state (array_like): current state\n",
        "            eps (float): epsilon, for epsilon-greedy action selection\n",
        "        \"\"\"\n",
        "        state = torch.from_numpy(state).float().unsqueeze(0).to(device)\n",
        "        self.qnetwork_local.eval()\n",
        "        with torch.no_grad():\n",
        "            action_values = self.qnetwork_local(state)\n",
        "        self.qnetwork_local.train()\n",
        "\n",
        "        # Epsilon-greedy action selection\n",
        "        if random.random() > eps:\n",
        "            return np.argmax(action_values.cpu().data.numpy())\n",
        "        else:\n",
        "            return random.choice(np.arange(self.action_size))\n",
        "\n",
        "    def learn(self, experiences, gamma):\n",
        "        \"\"\"Update value parameters using given batch of experience tuples.\n",
        "        Params\n",
        "        ======\n",
        "            experiences (Tuple[torch.Tensor]): tuple of (s, a, r, s', done) tuples \n",
        "            gamma (float): discount factor\n",
        "        \"\"\"\n",
        "        states, actions, rewards, dones = experiences\n",
        "  \n",
        "        # Get expected Q values from local model\n",
        "        Q_expected = self.qnetwork_local(states).gather(1, actions)\n",
        "        \n",
        "        # Compute Q targets for current states \n",
        "        # https://github.com/niffler92/Bandit/blob/master/bandit/agent.py\n",
        "        Q_targets = rewards + gamma * (rewards - Q_expected) * (1 - dones)\n",
        "        Q_expected = self.qnetwork_local(states).gather(1, actions)\n",
        "\n",
        "        # Compute loss\n",
        "        loss = F.mse_loss(Q_expected, Q_targets)\n",
        "\n",
        "        # Minimize the loss\n",
        "        self.optimizer.zero_grad()\n",
        "        loss.backward()\n",
        "        self.optimizer.step()\n",
        "\n",
        "        # ------------------- update target network ------------------- #\n",
        "        self.soft_update(self.qnetwork_local, self.qnetwork_target, TAU)                     \n",
        "    \n",
        "    def soft_update(self, local_model, target_model, tau):\n",
        "        \"\"\"Soft update model parameters.\n",
        "        θ_target = τ*θ_local + (1 - τ)*θ_target\n",
        "        Params\n",
        "        ======\n",
        "            local_model (PyTorch model): weights will be copied from\n",
        "            target_model (PyTorch model): weights will be copied to\n",
        "            tau (float): interpolation parameter \n",
        "        \"\"\"\n",
        "        for target_param, local_param in zip(target_model.parameters(), local_model.parameters()):\n",
        "            target_param.data.copy_(tau*local_param.data + (1.0-tau)*target_param.data)"
      ],
      "metadata": {
        "id": "4qyZ-2OS_gei"
      },
      "execution_count": 27,
      "outputs": []
    },
    {
      "cell_type": "markdown",
      "source": [
        "### Main"
      ],
      "metadata": {
        "id": "M66Vet8NC2iZ"
      }
    },
    {
      "cell_type": "code",
      "source": [
        "def dqn(n_episodes=shuffled_stimuli.shape[0], eps_start=1.0, eps_end=0.01, eps_decay=0.995):\n",
        "    \"\"\"Deep Q-Learning.\n",
        "    \n",
        "    Params\n",
        "    ======\n",
        "        n_episodes (int): maximum number of training episodes\n",
        "        max_t (int): maximum number of timesteps per episode\n",
        "        eps_start (float): starting value of epsilon, for epsilon-greedy action selection\n",
        "        eps_end (float): minimum value of epsilon\n",
        "        eps_decay (float): multiplicative factor (per episode) for decreasing epsilon\n",
        "    \"\"\"\n",
        "    scores = []                        # list containing scores from each episode\n",
        "    scores_window = deque(maxlen=100)  # last 100 scores\n",
        "    eps = eps_start                    # initialize epsilon\n",
        "    agent = Agent(state_size = 12, action_size=2, seed=0)\n",
        "\n",
        "    for i_episode in range(1, n_episodes-1):\n",
        "      score = 0\n",
        "      for t in range(1):\n",
        "        state = shuffled_stimuli[i_episode][:-1].astype('float')\n",
        "        action = agent.act(state, eps)\n",
        "        \n",
        "        if float(action) == float(shuffled_stimuli[i_episode][-1]):\n",
        "          reward = 1\n",
        "        else:\n",
        "          reward = 0\n",
        "\n",
        "        if i_episode != n_episodes:\n",
        "          done = 0\n",
        "        else:\n",
        "          done = 1 \n",
        "        # print(\"done:\", done)\n",
        "\n",
        "        agent.step(state, action, reward, done)\n",
        "        score += reward\n",
        "        if done:\n",
        "            break \n",
        "\n",
        "      scores_window.append(score)  \n",
        "      scores.append(np.mean(scores_window))  \n",
        "      eps = max(eps_end, eps_decay*eps) # decrease epsilon\n",
        "      print('\\rEpisode {}\\tAverage Score: {:.2f}'.format(i_episode, np.mean(scores_window)), end=\"\")\n",
        "      if i_episode % 100 == 0:\n",
        "          print('\\rEpisode {}\\tAverage Score: {:.2f}'.format(i_episode, np.mean(scores_window)))\n",
        "      if len(scores_window)>=100 and np.mean(scores_window)>=99.99:\n",
        "          print('\\nEnvironment solved in {:d} episodes!\\tAverage Score: {:.2f}'.format(i_episode-100, np.mean(scores_window)))\n",
        "          torch.save(agent.qnetwork_local.state_dict(), 'checkpoint.pth')\n",
        "          break\n",
        "        \n",
        "    return scores"
      ],
      "metadata": {
        "id": "-Zk_8xNpC3uN"
      },
      "execution_count": 32,
      "outputs": []
    },
    {
      "cell_type": "markdown",
      "source": [
        "### Training"
      ],
      "metadata": {
        "id": "0rlXM6CaDCfC"
      }
    },
    {
      "cell_type": "code",
      "source": [
        "scores = dqn()\n",
        "\n",
        "# plot the scores\n",
        "plt.style.use('dark_background')\n",
        "fig = plt.figure()\n",
        "ax = fig.add_subplot(111)\n",
        "plt.plot(np.arange(len(scores)), scores)\n",
        "plt.title(\"Cumulative Reward for Distinguishing Valid / Invalid Sets\")\n",
        "plt.ylabel('Reward (%)')\n",
        "plt.xlabel('Episodes')\n",
        "plt.show()"
      ],
      "metadata": {
        "colab": {
          "base_uri": "https://localhost:8080/",
          "height": 677
        },
        "id": "7da71J6OC8mu",
        "outputId": "8ec4b4f9-0763-4d18-f559-53b8c3e93e9e"
      },
      "execution_count": 33,
      "outputs": [
        {
          "output_type": "stream",
          "name": "stdout",
          "text": [
            "\rEpisode 1\tAverage Score: 1.00\rEpisode 2\tAverage Score: 1.00\rEpisode 3\tAverage Score: 0.67\rEpisode 4\tAverage Score: 0.50\rEpisode 5\tAverage Score: 0.40\rEpisode 6\tAverage Score: 0.50\rEpisode 7\tAverage Score: 0.43\rEpisode 8\tAverage Score: 0.50\rEpisode 9\tAverage Score: 0.56\rEpisode 10\tAverage Score: 0.60\rEpisode 11\tAverage Score: 0.55\rEpisode 12\tAverage Score: 0.50\rEpisode 13\tAverage Score: 0.46\rEpisode 14\tAverage Score: 0.50\rEpisode 15\tAverage Score: 0.53\rEpisode 16\tAverage Score: 0.56\rEpisode 17\tAverage Score: 0.53\rEpisode 18\tAverage Score: 0.50\rEpisode 19\tAverage Score: 0.47\rEpisode 20\tAverage Score: 0.50\rEpisode 21\tAverage Score: 0.52\rEpisode 22\tAverage Score: 0.55\rEpisode 23\tAverage Score: 0.52\rEpisode 24\tAverage Score: 0.50\rEpisode 25\tAverage Score: 0.52\rEpisode 26\tAverage Score: 0.54\rEpisode 27\tAverage Score: 0.52\rEpisode 28\tAverage Score: 0.54\rEpisode 29\tAverage Score: 0.55\rEpisode 30\tAverage Score: 0.53\rEpisode 31\tAverage Score: 0.55\rEpisode 32\tAverage Score: 0.56\rEpisode 33\tAverage Score: 0.58\rEpisode 34\tAverage Score: 0.56\rEpisode 35\tAverage Score: 0.54\rEpisode 36\tAverage Score: 0.53\rEpisode 37\tAverage Score: 0.51\rEpisode 38\tAverage Score: 0.53\rEpisode 39\tAverage Score: 0.51\rEpisode 40\tAverage Score: 0.50\rEpisode 41\tAverage Score: 0.51\rEpisode 42\tAverage Score: 0.50\rEpisode 43\tAverage Score: 0.51\rEpisode 44\tAverage Score: 0.52\rEpisode 45\tAverage Score: 0.53\rEpisode 46\tAverage Score: 0.54\rEpisode 47\tAverage Score: 0.53\rEpisode 48\tAverage Score: 0.52\rEpisode 49\tAverage Score: 0.51\rEpisode 50\tAverage Score: 0.52\rEpisode 51\tAverage Score: 0.53\rEpisode 52\tAverage Score: 0.54\rEpisode 53\tAverage Score: 0.53\rEpisode 54\tAverage Score: 0.54\rEpisode 55\tAverage Score: 0.53\rEpisode 56\tAverage Score: 0.54\rEpisode 57\tAverage Score: 0.53\rEpisode 58\tAverage Score: 0.52\rEpisode 59\tAverage Score: 0.53\rEpisode 60\tAverage Score: 0.53\rEpisode 61\tAverage Score: 0.54\rEpisode 62\tAverage Score: 0.55\rEpisode 63\tAverage Score: 0.54\rEpisode 64\tAverage Score: 0.55\rEpisode 65\tAverage Score: 0.54\rEpisode 66\tAverage Score: 0.53\rEpisode 67\tAverage Score: 0.52\rEpisode 68\tAverage Score: 0.53\rEpisode 69\tAverage Score: 0.52\rEpisode 70\tAverage Score: 0.53\rEpisode 71\tAverage Score: 0.54\rEpisode 72\tAverage Score: 0.54\rEpisode 73\tAverage Score: 0.55\rEpisode 74\tAverage Score: 0.54\rEpisode 75\tAverage Score: 0.55\rEpisode 76\tAverage Score: 0.54\rEpisode 77\tAverage Score: 0.55\rEpisode 78\tAverage Score: 0.54\rEpisode 79\tAverage Score: 0.54\rEpisode 80\tAverage Score: 0.55\rEpisode 81\tAverage Score: 0.54\rEpisode 82\tAverage Score: 0.54\rEpisode 83\tAverage Score: 0.54\rEpisode 84\tAverage Score: 0.55\rEpisode 85\tAverage Score: 0.54\rEpisode 86\tAverage Score: 0.55\rEpisode 87\tAverage Score: 0.55\rEpisode 88\tAverage Score: 0.55\rEpisode 89\tAverage Score: 0.54\rEpisode 90\tAverage Score: 0.54\rEpisode 91\tAverage Score: 0.54\rEpisode 92\tAverage Score: 0.53\rEpisode 93\tAverage Score: 0.53\rEpisode 94\tAverage Score: 0.53\rEpisode 95\tAverage Score: 0.53\rEpisode 96\tAverage Score: 0.52\rEpisode 97\tAverage Score: 0.53\rEpisode 98\tAverage Score: 0.53\rEpisode 99\tAverage Score: 0.53\rEpisode 100\tAverage Score: 0.52\rEpisode 100\tAverage Score: 0.52\n",
            "Episode 200\tAverage Score: 0.48\n",
            "Episode 300\tAverage Score: 0.56\n",
            "Episode 400\tAverage Score: 0.67\n",
            "Episode 500\tAverage Score: 0.64\n",
            "Episode 600\tAverage Score: 0.78\n",
            "Episode 700\tAverage Score: 0.75\n",
            "Episode 800\tAverage Score: 0.83\n",
            "Episode 900\tAverage Score: 0.80\n",
            "Episode 1000\tAverage Score: 0.81\n",
            "Episode 1100\tAverage Score: 0.83\n",
            "Episode 1200\tAverage Score: 0.88\n",
            "Episode 1300\tAverage Score: 0.81\n",
            "Episode 1400\tAverage Score: 0.92\n",
            "Episode 1500\tAverage Score: 0.87\n",
            "Episode 1600\tAverage Score: 0.94\n",
            "Episode 1700\tAverage Score: 0.93\n",
            "Episode 1800\tAverage Score: 0.93\n",
            "Episode 1900\tAverage Score: 0.94\n",
            "Episode 2000\tAverage Score: 0.93\n",
            "Episode 2100\tAverage Score: 0.91\n",
            "Episode 2158\tAverage Score: 0.89"
          ]
        },
        {
          "output_type": "display_data",
          "data": {
            "image/png": "[encoded data removed]",
            "text/plain": [
              "<Figure size 432x288 with 1 Axes>"
            ]
          },
          "metadata": {}
        }
      ]
    }
  ]
}